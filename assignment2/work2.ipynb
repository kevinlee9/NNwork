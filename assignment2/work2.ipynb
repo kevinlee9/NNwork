{
 "cells": [
  {
   "cell_type": "markdown",
   "metadata": {},
   "source": [
    "In this assignment, the support vector machine (SVM) and the Min-Max-Module\n",
    "strategy will be used to deal with multi-class classification problems. SVMs usually\n",
    "handle binary classification tasks. If there are several classes to recognize, some\n",
    "strategies are needed. The most common methods are one-vs-one strategy, one-vs-rest\n",
    "strategy, and part-vs-part strategy."
   ]
  },
  {
   "cell_type": "code",
   "execution_count": 16,
   "metadata": {
    "collapsed": false,
    "deletable": true,
    "editable": true
   },
   "outputs": [],
   "source": [
    "# coding: utf-8\n",
    "# multi-class SVM using one versus rest policy\n",
    "# multi-class SVM using Min-Max framework\n",
    "\n",
    "import time\n",
    "import numpy as np\n",
    "import scipy.io as spio\n",
    "import matplotlib.pyplot as plt\n",
    "\n",
    "from sklearn.decomposition import PCA\n",
    "from sklearn.manifold import TSNE\n",
    "from sklearn import svm\n",
    "from sklearn.metrics import accuracy_score\n",
    "\n",
    "hidden_size=100\n",
    "output_size=3\n",
    "batch_size=50\n",
    "beta = 0.1 # regularization\n"
   ]
  },
  {
   "cell_type": "code",
   "execution_count": 17,
   "metadata": {
    "collapsed": true,
    "deletable": true,
    "editable": true
   },
   "outputs": [],
   "source": [
    "def load_data():\n",
    "    data_dir = \"train_test\"\n",
    "    X_train = np.load(data_dir + \"/\" + \"train_data.npy\")\n",
    "    X_test = np.load(data_dir + \"/\" + \"test_data.npy\")\n",
    "    y_train = np.load(data_dir + \"/\" + \"train_label.npy\").astype(int)\n",
    "    y_test = np.load(data_dir + \"/\" + \"test_label.npy\").astype(int)\n",
    "    return X_train, X_test, y_train, y_test"
   ]
  },
  {
   "cell_type": "code",
   "execution_count": 18,
   "metadata": {
    "collapsed": false,
    "deletable": true,
    "editable": true
   },
   "outputs": [],
   "source": [
    "def normalize(X):\n",
    "    # make data balanced in every axis\n",
    "    mean = X.mean(axis=0)\n",
    "    var = X.std(axis=0)\n",
    "    return (X - mean) / var, mean, var"
   ]
  },
  {
   "cell_type": "code",
   "execution_count": 19,
   "metadata": {
    "collapsed": true,
    "deletable": true,
    "editable": true
   },
   "outputs": [],
   "source": [
    "def shift(y_in):\n",
    "    # make labels start from 0\n",
    "    y = y_in.ravel()\n",
    "    return y_in - y.min()"
   ]
  },
  {
   "cell_type": "code",
   "execution_count": 20,
   "metadata": {
    "collapsed": false,
    "deletable": true,
    "editable": true
   },
   "outputs": [],
   "source": [
    "def visual_2D(X, y, vtype=\"PCA\"):\n",
    "    \n",
    "    if vtype == \"PCA\":\n",
    "        pca = PCA(n_components=2)\n",
    "        X_r = pca.fit(X).transform(X)\n",
    "    elif vtype == \"TSNE\":\n",
    "        pca = PCA(n_components=5)\n",
    "        X_r = pca.fit(X).transform(X)\n",
    "        print X_r.shape\n",
    "        X_r = TSNE(n_components=2).fit_transform(X_r)\n",
    "    else:\n",
    "        return -1\n",
    "    # plot \n",
    "    plt.figure()\n",
    "    colors = ['navy', 'turquoise', 'darkorange']\n",
    "    lw = 2\n",
    "    target_names = [\"-1\", \"0\", \"1\"]\n",
    "    for color, i, target_name in zip(colors, [-1, 0, 1], target_names):\n",
    "        plt.scatter(X_r[y == i, 0], X_r[y == i, 1], color=color, alpha=.8, lw=lw,\n",
    "                    label=target_name)\n",
    "    plt.legend(loc='best', shadow=False, scatterpoints=1)\n",
    "    plt.title('PCA of Input dataset')\n",
    "    plt.show()"
   ]
  },
  {
   "cell_type": "code",
   "execution_count": 21,
   "metadata": {
    "collapsed": true,
    "deletable": true,
    "editable": true
   },
   "outputs": [],
   "source": [
    "def lb2vec(y_in):\n",
    "    y = y_in.ravel()\n",
    "    a = y - y.min()\n",
    "    b = np.zeros((a.size, a.max()+1))\n",
    "    b[np.arange(a.size),a] = 1\n",
    "    return b"
   ]
  },
  {
   "cell_type": "code",
   "execution_count": 22,
   "metadata": {
    "collapsed": true,
    "deletable": true,
    "editable": true
   },
   "outputs": [],
   "source": [
    "def accuracy(y, label):\n",
    "    return (y==label) / y.size"
   ]
  },
  {
   "cell_type": "code",
   "execution_count": 23,
   "metadata": {
    "collapsed": true,
    "deletable": true,
    "editable": true
   },
   "outputs": [],
   "source": [
    "X_train, X_test, y_train, y_test = load_data()"
   ]
  },
  {
   "cell_type": "code",
   "execution_count": 26,
   "metadata": {
    "collapsed": false,
    "deletable": true,
    "editable": true
   },
   "outputs": [
    {
     "data": {
      "image/png": "[encoded data removed]",
      "text/plain": [
       "<matplotlib.figure.Figure at 0x7f8136e3b190>"
      ]
     },
     "metadata": {},
     "output_type": "display_data"
    }
   ],
   "source": [
    "# visualize original data in 2D\n",
    "# visual_2D(X_train, y_train, vtype=\"TSNE\")\n",
    "visual_2D(X_train, y_train)\n"
   ]
  },
  {
   "cell_type": "code",
   "execution_count": 10,
   "metadata": {
    "collapsed": false,
    "deletable": true,
    "editable": true
   },
   "outputs": [],
   "source": [
    "X_train, X_train_mean, X_train_var = normalize(X_train)\n",
    "# X_test = normalize(X_test)\n",
    "X_test = (X_test - X_train_mean) / X_train_var\n",
    "# ravel: extend y to a list. match sklearn version\n",
    "y_train = shift(y_train)\n",
    "y_test = shift(y_test)\n",
    "X_train_sm = X_train[np.arange( 0, 30000, 100 )]\n",
    "y_train_sm = y_train[np.arange( 0, 30000, 100 )]\n",
    "X_test_sm = X_test[np.arange( 0, 10000, 100 )]\n",
    "y_test_sm = y_test[np.arange( 0, 10000, 100 )]\n",
    "X_train_md = X_train[np.arange( 0, 30000, 10 )]\n",
    "y_train_md = y_train[np.arange( 0, 30000, 10 )]\n",
    "X_test_md = X_test[np.arange( 0, 10000, 10 )]\n",
    "y_test_md = y_test[np.arange( 0, 10000, 10 )]"
   ]
  },
  {
   "cell_type": "code",
   "execution_count": 11,
   "metadata": {
    "collapsed": false,
    "deletable": true,
    "editable": true
   },
   "outputs": [],
   "source": [
    "class SVME():\n",
    "    # classes need to be numbered starting from 0\n",
    "    def __init__(self, num_classes=3, policy=\"ovr\", C=1, class_weight=None):\n",
    "        self.svms = []\n",
    "        self.num_classes = num_classes\n",
    "        self.policy = policy\n",
    "        for i in range(num_classes):\n",
    "            clf = svm.SVC(C=C, class_weight=class_weight)\n",
    "            self.svms.append(clf)\n",
    "            \n",
    "    def fit(self, X, y):\n",
    "        y_datas = self._split_by_label(y)\n",
    "                \n",
    "        for i in range(self.num_classes):\n",
    "            self.svms[i].fit(X, y_datas[i])\n",
    "\n",
    "    def _split_by_label(self, y):\n",
    "        y_datas = []\n",
    "        for i in range(self.num_classes):\n",
    "            y_new = np.copy(y)\n",
    "            y_new[y_new != i] = -1\n",
    "            y_datas.append(y_new)\n",
    "        \n",
    "        return y_datas            \n",
    "        \n",
    "    def predict(self, X):\n",
    "#         y_outs = []\n",
    "#         for i in range(self.num_classes):\n",
    "#             y_outs.append(self.svms[i].predict(X))\n",
    "#         return y_outs\n",
    "        decisions = self.decision_function(X)\n",
    "        return np.argmax(decisions, axis=0)\n",
    "    \n",
    "    def score(self, X, y):\n",
    "        return accuracy_score(self.predict(X), y)\n",
    "    \n",
    "    def decision_function(self, X):\n",
    "        y_outs = []\n",
    "        for i in range(self.num_classes):\n",
    "            y_outs.append(self.svms[i].decision_function(X))\n",
    "        return np.asarray(y_outs)\n",
    "        "
   ]
  },
  {
   "cell_type": "code",
   "execution_count": 12,
   "metadata": {
    "collapsed": false,
    "deletable": true,
    "editable": true
   },
   "outputs": [],
   "source": [
    "class SVMM3():\n",
    "    # classes need to be numbered starting from 0\n",
    "    def __init__(self, num_classes=3, policy=\"prior\", C=1):\n",
    "        self.svms = []\n",
    "        self.num_classes = num_classes\n",
    "        self.policy = policy\n",
    "        self.clf_num = self.num_classes * (self.num_classes - 1)\n",
    "        for i in range(self.clf_num):\n",
    "            clf = svm.SVC(C=C)\n",
    "            self.svms.append(clf)\n",
    "            \n",
    "    def fit(self, X, y):\n",
    "        datasets = self._split_data(X, y, self.policy)\n",
    "        \n",
    "        for i in range(self.clf_num):\n",
    "            X_train = datasets[i][\"X\"]\n",
    "            y_train = datasets[i][\"y\"]\n",
    "            self.svms[i].fit(X_train, y_train)\n",
    "    \n",
    "    def _split_data(self, X, y, policy=\"prior\"):\n",
    "        # prepare data for classifiers\n",
    "        # only return idxs\n",
    "        datasets = []\n",
    "        if policy == \"prior\":\n",
    "            indices = []\n",
    "            for i in range(self.num_classes):\n",
    "                idx, = np.where(y == i)\n",
    "                indices.append(idx)\n",
    "            for i in range(self.clf_num):\n",
    "                loc = i / (self.num_classes - 1)\n",
    "                offset = i % (self.num_classes - 1)\n",
    "                if offset >= loc:\n",
    "                    offset += 1\n",
    "                \n",
    "                y_cp = np.copy(y)\n",
    "                X_cp = np.copy(X)\n",
    "                pos_idx = indices[loc]\n",
    "                neg_idx = indices[offset]\n",
    "                y_cp[pos_idx] = 1\n",
    "                y_cp[neg_idx] = 0\n",
    "                \n",
    "                X_train = np.vstack((X_cp[pos_idx], X_cp[neg_idx]))\n",
    "                y_train = np.concatenate([y_cp[pos_idx], y_cp[neg_idx]])\n",
    "                \n",
    "                dataset={\n",
    "                    \"X\": X_train,\n",
    "                    \"y\": y_train\n",
    "                }\n",
    "                \n",
    "                datasets.append(dataset)\n",
    "                \n",
    "        if policy == \"random\":\n",
    "            indices = []\n",
    "            indices_ng = []\n",
    "            for i in range(self.num_classes):\n",
    "                pos_idx, = np.where(y == i)\n",
    "                neg_idx, = np.where(y != i)\n",
    "                y_cp = np.copy(y)\n",
    "                X_cp = np.copy(X)\n",
    "                \n",
    "                \n",
    "                # debug: make result predictable\n",
    "                np.random.seed(0)                 \n",
    "                neg_idx_rand = np.arange(neg_idx.size)\n",
    "                np.random.shuffle(neg_idx_rand)\n",
    "                \n",
    "                y_cp[neg_idx] = 0\n",
    "                y_cp[pos_idx] = 1\n",
    "                \n",
    "                neg_idx1 = neg_idx_rand[: neg_idx.size/2]\n",
    "                neg_idx2 = neg_idx_rand[neg_idx.size/2: ]\n",
    "                \n",
    "                dataset1 = {\n",
    "                    \"X\": np.vstack((X_cp[pos_idx], X_cp[neg_idx1])),\n",
    "                    \"y\": np.concatenate([y_cp[pos_idx], y_cp[neg_idx1]])\n",
    "                }\n",
    "                \n",
    "                dataset2 = {\n",
    "                    \"X\": np.vstack((X_cp[pos_idx], X_cp[neg_idx2])),\n",
    "                    \"y\": np.concatenate([y_cp[pos_idx], y_cp[neg_idx2]])\n",
    "                }\n",
    "                \n",
    "                datasets.append(dataset1)\n",
    "                datasets.append(dataset2)\n",
    "        \n",
    "        return datasets\n",
    "        \n",
    "        \n",
    "    def predict(self, X):\n",
    "        decisions = self.decision_function(X)\n",
    "        \n",
    "        # opt1\n",
    "        # slicing decisons\n",
    "        des_groups = []\n",
    "        for i in range(self.num_classes):\n",
    "            des_groups.append(decisions[2*i: 2*i+2])\n",
    "        \n",
    "        min_groups = []\n",
    "        # min operation\n",
    "        for i in range(self.num_classes):\n",
    "            min_groups.append(des_groups[i].min(axis=0))\n",
    "        \n",
    "        # max opearion\n",
    "        max_groups = np.asarray(min_groups)\n",
    "        return np.argmax(max_groups, axis=0)\n",
    "        \n",
    "        # opt2\n",
    "        return np.argmax(decisions, axis=0) / (self.num_classes - 1)\n",
    "    \n",
    "    def score(self, X, y):\n",
    "        return accuracy_score(self.predict(X), y)\n",
    "    \n",
    "    def decision_function(self, X):\n",
    "        y_outs = []\n",
    "        for i in range(self.clf_num):\n",
    "            y_outs.append(self.svms[i].decision_function(X))\n",
    "        return np.asarray(y_outs)\n",
    "        "
   ]
  },
  {
   "cell_type": "code",
   "execution_count": 13,
   "metadata": {
    "collapsed": false,
    "deletable": true,
    "editable": true
   },
   "outputs": [],
   "source": [
    "def test(X_train, y_train, X_test, y_test):\n",
    "    # SVMM3, random\n",
    "    model = SVMM3(3, C=10, policy=\"random\")\n",
    "    model.fit(X_train, y_train)\n",
    "    s0 = model.score(X_test, y_test)\n",
    "    print \"SVMM3(random) accuracy: \", s0\n",
    "    # SVMM3, prior\n",
    "    model = SVMM3(3, C=10, policy=\"prior\")\n",
    "    model.fit(X_train, y_train)\n",
    "    s0 = model.score(X_test, y_test)\n",
    "    print \"SVMM3(prior) accuracy: \", s0\n",
    "    # SVME\n",
    "    model = SVME(3, C=10, class_weight=\"balanced\")\n",
    "    model.fit(X_train, y_train)\n",
    "    s1 = model.score(X_test, y_test)\n",
    "    print \"SVME accuracy: \", s1\n",
    "    # baseline\n",
    "    clf = svm.SVC(C=10)\n",
    "    clf.fit(X_train, y_train)\n",
    "    s2 = clf.score(X_test, y_test)\n",
    "    print \"baseline accuracy: \", s2"
   ]
  },
  {
   "cell_type": "code",
   "execution_count": 14,
   "metadata": {
    "collapsed": false,
    "deletable": true,
    "editable": true
   },
   "outputs": [
    {
     "name": "stdout",
     "output_type": "stream",
     "text": [
      "SVMM3(random) accuracy:  0.49\n",
      "SVMM3(prior) accuracy:  0.51\n",
      "SVME accuracy:  0.46\n",
      "baseline accuracy:  0.44\n"
     ]
    }
   ],
   "source": [
    "test(X_train_sm, y_train_sm, X_test_sm, y_test_sm)"
   ]
  },
  {
   "cell_type": "code",
   "execution_count": 15,
   "metadata": {
    "collapsed": false,
    "deletable": true,
    "editable": true,
    "scrolled": true
   },
   "outputs": [
    {
     "name": "stdout",
     "output_type": "stream",
     "text": [
      "SVMM3(random) accuracy:  0.45827200471\n",
      "SVMM3(prior) accuracy:  0.439947012069\n",
      "SVME accuracy:  0.443847512511\n",
      "baseline accuracy:  0.456726523403\n"
     ]
    }
   ],
   "source": [
    "test(X_train, y_train, X_test, y_test)"
   ]
  },
  {
   "cell_type": "code",
   "execution_count": 28,
   "metadata": {
    "collapsed": false
   },
   "outputs": [
    {
     "data": {
      "text/plain": [
       "array([ 1,  1,  1, ..., -1, -1, -1])"
      ]
     },
     "execution_count": 28,
     "metadata": {},
     "output_type": "execute_result"
    }
   ],
   "source": [
    "y_train"
   ]
  },
  {
   "cell_type": "code",
   "execution_count": 30,
   "metadata": {
    "collapsed": false,
    "deletable": true,
    "editable": true
   },
   "outputs": [
    {
     "data": {
      "image/png": "[encoded data removed]",
      "text/plain": [
       "<matplotlib.figure.Figure at 0x7f80cda61490>"
      ]
     },
     "metadata": {},
     "output_type": "display_data"
    },
    {
     "name": "stdout",
     "output_type": "stream",
     "text": [
      "\n"
     ]
    }
   ],
   "source": [
    "model = SVME(3, C=10, class_weight=\"balanced\")\n",
    "model.fit(X_train, y_train+1)\n",
    "y_predict = model.predict(X_train)\n",
    "visual_2D(X_train, y_predict-1)"
   ]
  },
  {
   "cell_type": "code",
   "execution_count": null,
   "metadata": {
    "collapsed": true
   },
   "outputs": [],
   "source": []
  }
 ],
 "metadata": {
  "kernelspec": {
   "display_name": "Python 2",
   "language": "python",
   "name": "python2"
  },
  "language_info": {
   "codemirror_mode": {
    "name": "ipython",
    "version": 2
   },
   "file_extension": ".py",
   "mimetype": "text/x-python",
   "name": "python",
   "nbconvert_exporter": "python",
   "pygments_lexer": "ipython2",
   "version": "2.7.12"
  }
 },
 "nbformat": 4,
 "nbformat_minor": 2
}
